{
 "cells": [
  {
   "cell_type": "code",
   "execution_count": 1,
   "id": "f20e3a50",
   "metadata": {},
   "outputs": [],
   "source": [
    "#pre defined functions\n",
    "#- print() type() int() float() str() list() tuple() dict() set()\n",
    "\n",
    "\n",
    "#user defined functions\n",
    "#-Syntax for user-defined function\n",
    "\n",
    "# def <function_name>():\n",
    "#   <operations>\n",
    "# function_name()"
   ]
  },
  {
   "cell_type": "code",
   "execution_count": 9,
   "id": "82b798f4",
   "metadata": {},
   "outputs": [
    {
     "name": "stdout",
     "output_type": "stream",
     "text": [
      "Hello World\n"
     ]
    }
   ],
   "source": [
    "def hello():\n",
    "    print(\"Hello World\")\n",
    "    \n",
    "hello()"
   ]
  },
  {
   "cell_type": "code",
   "execution_count": 11,
   "id": "479ba993",
   "metadata": {},
   "outputs": [
    {
     "name": "stdout",
     "output_type": "stream",
     "text": [
      "Enter l = 2\n",
      "Enter b = 3\n",
      "Enter h = 2\n",
      "12\n"
     ]
    }
   ],
   "source": [
    "def cal():\n",
    "    l = int(input(\"Enter l = \"))  #local var:variables defined under a function\n",
    "    b = int(input(\"Enter b = \"))  #local var:variables defined under a function\n",
    "    h = int(input(\"Enter h = \"))  #local var:variables defined under a function\n",
    "    v = l*b*h \n",
    "    print(v)\n",
    "    \n",
    "cal()    #will call the function\n",
    "\n",
    "#Note: local variables cant be used outside this function"
   ]
  },
  {
   "cell_type": "code",
   "execution_count": 12,
   "id": "df3502fb",
   "metadata": {},
   "outputs": [
    {
     "name": "stdout",
     "output_type": "stream",
     "text": [
      "Enter l = 2\n",
      "Enter b = 2\n",
      "Enter h = 2\n",
      "8\n"
     ]
    }
   ],
   "source": [
    "#Gloabl variables are called before defining function\n",
    "\n",
    "l = int(input(\"Enter l = \"))  \n",
    "b = int(input(\"Enter b = \"))\n",
    "h = int(input(\"Enter h = \")) \n",
    "\n",
    "def cal():\n",
    "    \n",
    "    v = l*b*h\n",
    "    print(v)\n",
    "    \n",
    "cal()"
   ]
  },
  {
   "cell_type": "code",
   "execution_count": 29,
   "id": "cd8f5ccd",
   "metadata": {},
   "outputs": [],
   "source": [
    "#recursive function"
   ]
  },
  {
   "cell_type": "code",
   "execution_count": 33,
   "id": "813d983f",
   "metadata": {},
   "outputs": [
    {
     "name": "stdout",
     "output_type": "stream",
     "text": [
      "hello world\n"
     ]
    }
   ],
   "source": [
    "def hello():\n",
    "    print(\"hello world\")\n",
    "    \n",
    "hello()\n",
    "    \n"
   ]
  },
  {
   "cell_type": "code",
   "execution_count": 34,
   "id": "624048f4",
   "metadata": {},
   "outputs": [
    {
     "name": "stdout",
     "output_type": "stream",
     "text": [
      "hello world\n",
      "Enter y for more print = y\n",
      "hello world\n",
      "Enter y for more print = y\n",
      "hello world\n",
      "Enter y for more print = y\n",
      "hello world\n",
      "Enter y for more print = y\n",
      "hello world\n",
      "Enter y for more print = jbszc\n"
     ]
    }
   ],
   "source": [
    "def hello():\n",
    "    print(\"hello world\")\n",
    "    x = input(\"Enter y for more print = \")\n",
    "    if x == 'y':\n",
    "        hello()\n",
    "        \n",
    "hello()"
   ]
  },
  {
   "cell_type": "code",
   "execution_count": null,
   "id": "76b3ab15",
   "metadata": {},
   "outputs": [],
   "source": [
    "#recursive functions can be used as a substitute for loop function"
   ]
  }
 ],
 "metadata": {
  "kernelspec": {
   "display_name": "Python 3 (ipykernel)",
   "language": "python",
   "name": "python3"
  },
  "language_info": {
   "codemirror_mode": {
    "name": "ipython",
    "version": 3
   },
   "file_extension": ".py",
   "mimetype": "text/x-python",
   "name": "python",
   "nbconvert_exporter": "python",
   "pygments_lexer": "ipython3",
   "version": "3.11.5"
  }
 },
 "nbformat": 4,
 "nbformat_minor": 5
}
