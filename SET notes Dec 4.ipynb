{
 "cells": [
  {
   "cell_type": "code",
   "execution_count": 1,
   "id": "4799c787",
   "metadata": {},
   "outputs": [],
   "source": [
    "#-Set\n",
    "#-No Indexing\n",
    "#-Unordered\n",
    "#-Multiple but no duplicate data\n",
    "#-Mutable"
   ]
  },
  {
   "cell_type": "code",
   "execution_count": 2,
   "id": "939e5dc9",
   "metadata": {},
   "outputs": [],
   "source": [
    "#-Syntax\n",
    "s=set()\n"
   ]
  },
  {
   "cell_type": "code",
   "execution_count": 3,
   "id": "35cb08f5",
   "metadata": {},
   "outputs": [
    {
     "name": "stdout",
     "output_type": "stream",
     "text": [
      "<class 'set'>\n"
     ]
    }
   ],
   "source": [
    "s={1,2,3}\n",
    "print(type(s))"
   ]
  },
  {
   "cell_type": "code",
   "execution_count": 4,
   "id": "714c11d0",
   "metadata": {},
   "outputs": [
    {
     "ename": "TypeError",
     "evalue": "'set' object is not subscriptable",
     "output_type": "error",
     "traceback": [
      "\u001b[0;31m---------------------------------------------------------------------------\u001b[0m",
      "\u001b[0;31mTypeError\u001b[0m                                 Traceback (most recent call last)",
      "Cell \u001b[0;32mIn[4], line 2\u001b[0m\n\u001b[1;32m      1\u001b[0m s\u001b[38;5;241m=\u001b[39m{\u001b[38;5;124m\"\u001b[39m\u001b[38;5;124mApple\u001b[39m\u001b[38;5;124m\"\u001b[39m, \u001b[38;5;124m\"\u001b[39m\u001b[38;5;124mBall\u001b[39m\u001b[38;5;124m\"\u001b[39m, \u001b[38;5;124m'\u001b[39m\u001b[38;5;124mCat\u001b[39m\u001b[38;5;124m'\u001b[39m,\u001b[38;5;124m'\u001b[39m\u001b[38;5;124mDog\u001b[39m\u001b[38;5;124m'\u001b[39m}\n\u001b[0;32m----> 2\u001b[0m \u001b[38;5;28mprint\u001b[39m(s[\u001b[38;5;241m0\u001b[39m])\n",
      "\u001b[0;31mTypeError\u001b[0m: 'set' object is not subscriptable"
     ]
    }
   ],
   "source": [
    "#No Indexing\n",
    "s={\"Apple\", \"Ball\", 'Cat','Dog'}\n",
    "print(s[0])"
   ]
  },
  {
   "cell_type": "code",
   "execution_count": 10,
   "id": "c992f11e",
   "metadata": {},
   "outputs": [
    {
     "data": {
      "text/plain": [
       "{'Apple', 'Ball', 'Cat', 'Dog'}"
      ]
     },
     "execution_count": 10,
     "metadata": {},
     "output_type": "execute_result"
    }
   ],
   "source": [
    "#Unordered\n",
    "s={\"Apple\",\"Ball\",\"Cat\",'Dog'}\n",
    "s"
   ]
  },
  {
   "cell_type": "code",
   "execution_count": 11,
   "id": "e1d2299e",
   "metadata": {},
   "outputs": [
    {
     "data": {
      "text/plain": [
       "{'Apple', 'Ball', 'Cat', 'Dog'}"
      ]
     },
     "execution_count": 11,
     "metadata": {},
     "output_type": "execute_result"
    }
   ],
   "source": [
    "#Multiple but no duplicate data\n",
    "s={\"Apple\",\"Ball\",\"Cat\",'Dog',\"Apple\",\"Cat\"}\n",
    "s"
   ]
  },
  {
   "cell_type": "code",
   "execution_count": 13,
   "id": "344f7f90",
   "metadata": {},
   "outputs": [
    {
     "data": {
      "text/plain": [
       "{'Apple', 'Ball', 'Cat', 'Dog', 'Elephant', 'Fox'}"
      ]
     },
     "execution_count": 13,
     "metadata": {},
     "output_type": "execute_result"
    }
   ],
   "source": [
    "#Mutable\n",
    "s={\"Apple\",\"Ball\",\"Cat\",'Dog','Elephant',\"Fox\"}\n",
    "s"
   ]
  },
  {
   "cell_type": "code",
   "execution_count": 14,
   "id": "73626b11",
   "metadata": {},
   "outputs": [
    {
     "name": "stdout",
     "output_type": "stream",
     "text": [
      "{'Box', 'Ant'}\n"
     ]
    }
   ],
   "source": [
    "#add()\n",
    "s=set()\n",
    "s.add(\"Ant\")\n",
    "s.add(\"Box\")\n",
    "print(s)"
   ]
  },
  {
   "cell_type": "code",
   "execution_count": 17,
   "id": "fdb261f6",
   "metadata": {},
   "outputs": [
    {
     "name": "stdout",
     "output_type": "stream",
     "text": [
      "Box\n",
      "Ant\n",
      "Cake\n"
     ]
    }
   ],
   "source": [
    "s={\"Ant\",\"Box\",\"Cake\"}\n",
    "for i in s:\n",
    "    print(i)"
   ]
  },
  {
   "cell_type": "code",
   "execution_count": 16,
   "id": "39cf3a6b",
   "metadata": {},
   "outputs": [
    {
     "name": "stdout",
     "output_type": "stream",
     "text": [
      "{'Box', 'Cake'}\n"
     ]
    }
   ],
   "source": [
    "s={\"Ant\",\"Box\",\"Cake\"}    #you cant replace element so you simply remove and add\n",
    "s.remove(\"Ant\")\n",
    "print(s)"
   ]
  },
  {
   "cell_type": "code",
   "execution_count": 18,
   "id": "4bfa0a8a",
   "metadata": {},
   "outputs": [
    {
     "ename": "TypeError",
     "evalue": "unsupported operand type(s) for +: 'set' and 'set'",
     "output_type": "error",
     "traceback": [
      "\u001b[0;31m---------------------------------------------------------------------------\u001b[0m",
      "\u001b[0;31mTypeError\u001b[0m                                 Traceback (most recent call last)",
      "Cell \u001b[0;32mIn[18], line 4\u001b[0m\n\u001b[1;32m      2\u001b[0m a\u001b[38;5;241m=\u001b[39m{\u001b[38;5;241m1\u001b[39m,\u001b[38;5;241m2\u001b[39m,\u001b[38;5;241m3\u001b[39m}\n\u001b[1;32m      3\u001b[0m b\u001b[38;5;241m=\u001b[39m{\u001b[38;5;241m4\u001b[39m,\u001b[38;5;241m5\u001b[39m,\u001b[38;5;241m6\u001b[39m}\n\u001b[0;32m----> 4\u001b[0m c\u001b[38;5;241m=\u001b[39ma\u001b[38;5;241m+\u001b[39mb\n\u001b[1;32m      5\u001b[0m \u001b[38;5;28mprint\u001b[39m(c)\n",
      "\u001b[0;31mTypeError\u001b[0m: unsupported operand type(s) for +: 'set' and 'set'"
     ]
    }
   ],
   "source": [
    "#two sets can never be concatinated/will show error\n",
    "a={1,2,3}\n",
    "b={4,5,6}\n",
    "c=a+b\n",
    "print(c)"
   ]
  },
  {
   "cell_type": "code",
   "execution_count": 20,
   "id": "74ed4132",
   "metadata": {},
   "outputs": [
    {
     "name": "stdout",
     "output_type": "stream",
     "text": [
      "{1, 2, 3, 4, 5, 6}\n"
     ]
    }
   ],
   "source": [
    "#In the case you have to concatinate two sets\n",
    "a={1,2,3}\n",
    "b={4,5,6}\n",
    "a.update(b)\n",
    "print(a)"
   ]
  },
  {
   "cell_type": "code",
   "execution_count": null,
   "id": "b782d0f3",
   "metadata": {},
   "outputs": [],
   "source": [
    "#Notes\n",
    "#no list inside set\n",
    "#no dictionary inside set\n",
    "#no set inside set"
   ]
  },
  {
   "cell_type": "code",
   "execution_count": null,
   "id": "a2093d8c",
   "metadata": {},
   "outputs": [],
   "source": [
    "#Set in Maths"
   ]
  },
  {
   "cell_type": "code",
   "execution_count": 26,
   "id": "d22dcd06",
   "metadata": {},
   "outputs": [
    {
     "name": "stdout",
     "output_type": "stream",
     "text": [
      "{'Hari', 'Shyam'}\n"
     ]
    }
   ],
   "source": [
    "#To see the intersection between 2 sets\n",
    "University={'Joseph','Hillary','Bill', 'Shyam', 'Sabin', 'Subodh', 'Hari', 'Steve', 'William', 'Saroj', 'Mike', 'Nikesh', 'Ram', 'John'}\n",
    "apple = {\"John\",\"Steve\",\"Mike\",\"Ram\",\"Hari\",\"Shyam\",\"Nikesh\"}\n",
    "ms = {\"Bill\",\"William\",\"Sabin\",\"Saroj\",\"Subodh\",\"Shyam\",\"Hari\"}\n",
    "\n",
    "i = apple.intersection(ms)\n",
    "print(i)"
   ]
  },
  {
   "cell_type": "code",
   "execution_count": 23,
   "id": "389cf0f5",
   "metadata": {},
   "outputs": [
    {
     "name": "stdout",
     "output_type": "stream",
     "text": [
      "{'Bill', 'Shyam', 'Sabin', 'Subodh', 'Hari', 'Steve', 'William', 'Saroj', 'Mike', 'Nikesh', 'Ram', 'John'}\n"
     ]
    }
   ],
   "source": [
    "#To see the union of 2 sets\n",
    "un=ms.union(apple)\n",
    "print(un)"
   ]
  },
  {
   "cell_type": "code",
   "execution_count": 24,
   "id": "9c81c6ec",
   "metadata": {},
   "outputs": [
    {
     "name": "stdout",
     "output_type": "stream",
     "text": [
      "{'Steve', 'Mike', 'Nikesh', 'Ram', 'John'}\n"
     ]
    }
   ],
   "source": [
    "#To see elements only at set a\n",
    "df1 = apple-ms\n",
    "print(df1)"
   ]
  },
  {
   "cell_type": "code",
   "execution_count": 25,
   "id": "fddc6f65",
   "metadata": {},
   "outputs": [
    {
     "name": "stdout",
     "output_type": "stream",
     "text": [
      "{'Bill', 'Sabin', 'Subodh', 'William', 'Saroj'}\n"
     ]
    }
   ],
   "source": [
    "#To see elements only at set b\n",
    "df2=ms-apple\n",
    "print(df2)"
   ]
  },
  {
   "cell_type": "code",
   "execution_count": 29,
   "id": "8ac0fbc9",
   "metadata": {},
   "outputs": [
    {
     "name": "stdout",
     "output_type": "stream",
     "text": [
      "{'Joseph', 'Hillary'}\n"
     ]
    }
   ],
   "source": [
    "Unemployed= University- un\n",
    "print(Unemployed)"
   ]
  },
  {
   "cell_type": "code",
   "execution_count": null,
   "id": "1a321b2e",
   "metadata": {},
   "outputs": [],
   "source": [
    "#Notes: Set is used in to show:\n",
    "#* Common traits; i.e a resume and job requirement\n",
    "#* Movie recommendation algorithm, matching the common elements i.e genre\n",
    "\n"
   ]
  }
 ],
 "metadata": {
  "kernelspec": {
   "display_name": "Python 3 (ipykernel)",
   "language": "python",
   "name": "python3"
  },
  "language_info": {
   "codemirror_mode": {
    "name": "ipython",
    "version": 3
   },
   "file_extension": ".py",
   "mimetype": "text/x-python",
   "name": "python",
   "nbconvert_exporter": "python",
   "pygments_lexer": "ipython3",
   "version": "3.11.5"
  }
 },
 "nbformat": 4,
 "nbformat_minor": 5
}
