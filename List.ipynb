{
 "cells": [
  {
   "cell_type": "code",
   "execution_count": 2,
   "id": "0c03c0be-2de2-42e2-a2a2-c1dd988b5cd5",
   "metadata": {
    "collapsed": true,
    "jupyter": {
     "outputs_hidden": true
    },
    "tags": []
   },
   "outputs": [
    {
     "name": "stdout",
     "output_type": "stream",
     "text": [
      "<class 'list'>\n",
      "<class 'list'>\n"
     ]
    }
   ],
   "source": [
    "#-List\n",
    "#-Indexing\n",
    "#-Ordered\n",
    "#-Multiple and duplicate data\n",
    "#-Mutable"
   ]
  },
  {
   "cell_type": "code",
   "execution_count": 2,
   "id": "26d9b2b5-7314-4788-ba7e-d15ea74207bb",
   "metadata": {
    "collapsed": true,
    "jupyter": {
     "outputs_hidden": true
    },
    "tags": []
   },
   "outputs": [
    {
     "name": "stdout",
     "output_type": "stream",
     "text": [
      "<class 'list'>\n",
      "<class 'list'>\n"
     ]
    }
   ],
   "source": [
    "#WAP consisting list of numbers(a) and characters(b)\n",
    "a=[1,2,3,4,5,6,7,8]\n",
    "b=[\"Apple\", \"Ball\", \"Cat\",\"Dog\", \"Fish\", \"Apple\"]\n",
    "print(type(a))\n",
    "print(type(b))\n"
   ]
  },
  {
   "cell_type": "code",
   "execution_count": 8,
   "id": "ad229f23-9b92-42e7-968a-73da44c41f50",
   "metadata": {
    "tags": []
   },
   "outputs": [
    {
     "name": "stdout",
     "output_type": "stream",
     "text": [
      "Apple\n",
      "Ball\n",
      "['Apple', 'Ball', 'Cat', 'Dog']\n",
      "['Apple', 'Cat', 'Fish']\n"
     ]
    }
   ],
   "source": [
    "#WAP to show indexing in a list\n",
    "b=[\"Apple\",\"Ball\",\"Cat\",\"Dog\",\"Fish\",\"Apple\"]\n",
    "print(b[0])\n",
    "print(b[1])  #to print 2nd item in the list\n",
    "print(b[0:4]) #to print 0 to 3 items in order\n",
    "print(b[0:5:2]) #to print 0 to 5 with an increment of 2\n"
   ]
  },
  {
   "cell_type": "code",
   "execution_count": 9,
   "id": "ad44d440-96a3-49f1-812f-a69645deaa99",
   "metadata": {
    "tags": []
   },
   "outputs": [
    {
     "name": "stdout",
     "output_type": "stream",
     "text": [
      "[1, 2, 3, 4, 5, 6, 7, 8, 9, 10]\n"
     ]
    }
   ],
   "source": [
    "#WAP to concatinate a list\n",
    "a=[1,2,3,4,5]\n",
    "b=[6,7,8,9,10]\n",
    "c=a+b\n",
    "print(c)"
   ]
  },
  {
   "cell_type": "code",
   "execution_count": 10,
   "id": "b7820aac-dee8-497b-bf10-4d510c990a1a",
   "metadata": {
    "tags": []
   },
   "outputs": [
    {
     "name": "stdout",
     "output_type": "stream",
     "text": [
      "[1, 2, 3, 4, 5, 1, 2, 3, 4, 5]\n"
     ]
    }
   ],
   "source": [
    "#WAP to print the same list two times\n",
    "a=[1,2,3,4,5]\n",
    "print(a*2)\n"
   ]
  },
  {
   "cell_type": "code",
   "execution_count": 1,
   "id": "ce011319-ade7-4853-ac10-0b66300e5b36",
   "metadata": {},
   "outputs": [
    {
     "name": "stdout",
     "output_type": "stream",
     "text": [
      "['Apple', 'Ball']\n"
     ]
    }
   ],
   "source": [
    "a=['Apple', 'Ball']\n",
    "print(a)"
   ]
  },
  {
   "cell_type": "code",
   "execution_count": 2,
   "id": "2ea40f47",
   "metadata": {},
   "outputs": [
    {
     "name": "stdout",
     "output_type": "stream",
     "text": [
      "Enter n= 2\n",
      "Enter x = 23\n",
      "Enter x = 24\n",
      "[23, 24]\n"
     ]
    }
   ],
   "source": [
    "#append() insert() extend()\n",
    "l=[]\n",
    "#l=list() can also be written as\n",
    "n= int(input(\"Enter n= \"))\n",
    "for i in range(n):\n",
    "    x=int(input('Enter x = '))\n",
    "    l.append(x)\n",
    "\n",
    "print(l)\n",
    "\n"
   ]
  },
  {
   "cell_type": "code",
   "execution_count": 4,
   "id": "cd4c1667",
   "metadata": {
    "scrolled": true
   },
   "outputs": [
    {
     "name": "stdout",
     "output_type": "stream",
     "text": [
      "The max value =  24\n",
      "The min value =  23\n",
      "The sum =  47\n"
     ]
    }
   ],
   "source": [
    "#int the case of Integer: max value,min value, sorting\n",
    "\n",
    "print(\"The max value = \",max(l)) #We can directly use max in print function because it doesnt hamper the value\n",
    "print(\"The min value = \",min(l))\n",
    "print(\"The sum = \",sum(l))"
   ]
  },
  {
   "cell_type": "code",
   "execution_count": 8,
   "id": "9b6e1527",
   "metadata": {},
   "outputs": [
    {
     "name": "stdout",
     "output_type": "stream",
     "text": [
      "['Dog', 'Cat', 'Ball', 'Apple']\n"
     ]
    }
   ],
   "source": [
    "#In the case of sting variable\n",
    "\n",
    "a=[\"Apple\",\"Ball\", \"Cat\",\"Dog\"]\n",
    "a.sort()\n",
    "a.reverse()\n",
    "print(a)"
   ]
  },
  {
   "cell_type": "code",
   "execution_count": 15,
   "id": "2a636e0b",
   "metadata": {},
   "outputs": [
    {
     "data": {
      "text/plain": [
       "['Dog', 'ant', 'ant', 'ant', 'aeroplane', 'aeroplane', 'Cat', 'Ball', 'Apple']"
      ]
     },
     "execution_count": 15,
     "metadata": {},
     "output_type": "execute_result"
    }
   ],
   "source": [
    "#insert\n",
    "a.insert(1,\"ant\")\n",
    "a"
   ]
  },
  {
   "cell_type": "code",
   "execution_count": null,
   "id": "1ce4c5ce",
   "metadata": {},
   "outputs": [],
   "source": []
  },
  {
   "cell_type": "code",
   "execution_count": null,
   "id": "2bd83be1",
   "metadata": {},
   "outputs": [],
   "source": []
  },
  {
   "cell_type": "code",
   "execution_count": null,
   "id": "25d8d6bc",
   "metadata": {},
   "outputs": [],
   "source": []
  },
  {
   "cell_type": "code",
   "execution_count": 16,
   "id": "936c46d3",
   "metadata": {},
   "outputs": [
    {
     "name": "stdout",
     "output_type": "stream",
     "text": [
      "['Apple', 'Ball', 'Cat', 1, 2, 3]\n"
     ]
    }
   ],
   "source": [
    "#extend\n",
    "a=[\"Apple\", \"Ball\",\"Cat\"]\n",
    "b=[1,2,3]\n",
    "a.extend(b)\n",
    "print(a)"
   ]
  },
  {
   "cell_type": "code",
   "execution_count": null,
   "id": "ee3dfa14",
   "metadata": {},
   "outputs": [],
   "source": []
  },
  {
   "cell_type": "code",
   "execution_count": null,
   "id": "60e7246e",
   "metadata": {},
   "outputs": [],
   "source": []
  }
 ],
 "metadata": {
  "kernelspec": {
   "display_name": "Python 3 (ipykernel)",
   "language": "python",
   "name": "python3"
  },
  "language_info": {
   "codemirror_mode": {
    "name": "ipython",
    "version": 3
   },
   "file_extension": ".py",
   "mimetype": "text/x-python",
   "name": "python",
   "nbconvert_exporter": "python",
   "pygments_lexer": "ipython3",
   "version": "3.11.5"
  }
 },
 "nbformat": 4,
 "nbformat_minor": 5
}
