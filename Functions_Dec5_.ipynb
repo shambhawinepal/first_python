{
 "cells": [
  {
   "cell_type": "code",
   "execution_count": 1,
   "id": "9c37be9a",
   "metadata": {},
   "outputs": [],
   "source": [
    "#pre defined functions\n",
    "#- print() type() int() float() str() list() tuple() dict() set()\n",
    "\n",
    "\n",
    "#user defined functions\n",
    "#-Syntax for user-defined function\n",
    "\n",
    "# def <function_name>():\n",
    "#   <operations>\n",
    "# function_name()"
   ]
  },
  {
   "cell_type": "code",
   "execution_count": 9,
   "id": "4cdbdea2",
   "metadata": {},
   "outputs": [
    {
     "name": "stdout",
     "output_type": "stream",
     "text": [
      "Hello World\n"
     ]
    }
   ],
   "source": [
    "def hello():\n",
    "    print(\"Hello World\")\n",
    "    \n",
    "hello()"
   ]
  },
  {
   "cell_type": "code",
   "execution_count": 11,
   "id": "9945cc70",
   "metadata": {},
   "outputs": [
    {
     "name": "stdout",
     "output_type": "stream",
     "text": [
      "Enter l = 2\n",
      "Enter b = 3\n",
      "Enter h = 2\n",
      "12\n"
     ]
    }
   ],
   "source": [
    "def cal():\n",
    "    l = int(input(\"Enter l = \"))  #local var:variables defined under a function\n",
    "    b = int(input(\"Enter b = \"))  #local var:variables defined under a function\n",
    "    h = int(input(\"Enter h = \"))  #local var:variables defined under a function\n",
    "    v = l*b*h \n",
    "    print(v)\n",
    "    \n",
    "cal()    #will call the function\n",
    "\n",
    "#Note: local variables cant be used outside this function"
   ]
  },
  {
   "cell_type": "code",
   "execution_count": 12,
   "id": "01508b1d",
   "metadata": {},
   "outputs": [
    {
     "name": "stdout",
     "output_type": "stream",
     "text": [
      "Enter l = 2\n",
      "Enter b = 2\n",
      "Enter h = 2\n",
      "8\n"
     ]
    }
   ],
   "source": [
    "#Gloabl variables are called before defining function\n",
    "\n",
    "l = int(input(\"Enter l = \"))  \n",
    "b = int(input(\"Enter b = \"))\n",
    "h = int(input(\"Enter h = \")) \n",
    "\n",
    "def cal():\n",
    "    \n",
    "    v = l*b*h\n",
    "    print(v)\n",
    "    \n",
    "cal()"
   ]
  },
  {
   "cell_type": "code",
   "execution_count": null,
   "id": "e4c1505e",
   "metadata": {},
   "outputs": [],
   "source": [
    "#function without argument and no return type\n",
    "#function with agrument and no return type\n",
    "#function without argument and return type\n",
    "#function with argument and return type\n",
    "\n",
    "#Notes: You must have the same number of parameters,\n",
    "#  but the value can be different. print and paramenter should be same"
   ]
  },
  {
   "cell_type": "code",
   "execution_count": 14,
   "id": "889bba3e",
   "metadata": {},
   "outputs": [
    {
     "name": "stdout",
     "output_type": "stream",
     "text": [
      "Enter name = Shambhawi\n",
      "Enter age = 28\n",
      "Enter add = Satdobato\n",
      "Hello World I am Shambhawi. I am from Satdobato. I am 28 years old.\n"
     ]
    }
   ],
   "source": [
    "#function with argument but no return type\n",
    "\n",
    "def info(name,age,add):  #x,y,z (it can also be name,age,add->parameter\n",
    "    print(f\"Hello World I am {name}. I am from {add}. I am {age} years old.\")\n",
    "    \n",
    "name = input(\"Enter name = \")\n",
    "age = input(\"Enter age = \")\n",
    "add = input(\"Enter add = \")\n",
    "\n",
    "info(name,age,add)  #name,age,add ->argument"
   ]
  },
  {
   "cell_type": "code",
   "execution_count": 15,
   "id": "5c024818",
   "metadata": {},
   "outputs": [
    {
     "name": "stdout",
     "output_type": "stream",
     "text": [
      "Enter name = Shambhawi\n",
      "Enter age = 28\n",
      "Enter add = Satdobato\n",
      "Hello World I am Shambhawi.I am from Satdobato. I am 28\n"
     ]
    }
   ],
   "source": [
    "#Function with argument but no return type\n",
    "def info(x,y,z):     #name,age,add ->parameter\n",
    "    print(f\"Hello World I am {x}.I am from {z}. I am {y}\")\n",
    "    \n",
    "name = input(\"Enter name = \")\n",
    "age = int(input(\"Enter age = \"))\n",
    "add = input(\"Enter add = \")\n",
    "\n",
    "info(name,age,add)   #name,age,add ->argument"
   ]
  },
  {
   "cell_type": "code",
   "execution_count": 16,
   "id": "777d5147",
   "metadata": {},
   "outputs": [
    {
     "name": "stdout",
     "output_type": "stream",
     "text": [
      "C\n",
      "C++\n",
      "Java\n",
      "Python\n"
     ]
    }
   ],
   "source": [
    "def language(lan= \"Python\"): #parameter with value\n",
    "    print(lan)\n",
    "    \n",
    "language(\"C\")       #argument\n",
    "language(\"C++\")     #argument\n",
    "language(\"Java\")    #argument\n",
    "language()          #argument\n",
    "\n",
    "#Argument is prioratized more that parameter, here we have python as parameter vakye but all the argument is printed."
   ]
  },
  {
   "cell_type": "code",
   "execution_count": 17,
   "id": "5eb86aea",
   "metadata": {},
   "outputs": [
    {
     "name": "stdout",
     "output_type": "stream",
     "text": [
      "100\n",
      "200\n"
     ]
    }
   ],
   "source": [
    "#return type function \n",
    "\n",
    "def area():\n",
    "    l=20\n",
    "    b=5\n",
    "    a=l*b\n",
    "    return a\n",
    "\n",
    "ar=area()\n",
    "print(ar)\n",
    "\n",
    "h=2\n",
    "v=ar*h\n",
    "print(v)"
   ]
  },
  {
   "cell_type": "code",
   "execution_count": 18,
   "id": "638a88a9",
   "metadata": {},
   "outputs": [
    {
     "name": "stdout",
     "output_type": "stream",
     "text": [
      "(50, 100)\n",
      "Area =  50\n",
      "Volume =  100\n"
     ]
    }
   ],
   "source": [
    "#function with argument and return type(2 return values)\n",
    "def cal(l,b,h):\n",
    "    a=l*b\n",
    "    v=a*h\n",
    "    return a,v\n",
    "\n",
    "z=cal(10,5,2)\n",
    "print(z)\n",
    "area,volume = z\n",
    "print(\"Area = \",area)\n",
    "print(\"Volume = \",volume)"
   ]
  },
  {
   "cell_type": "code",
   "execution_count": 28,
   "id": "6d2ea4d4",
   "metadata": {
    "scrolled": false
   },
   "outputs": [
    {
     "name": "stdout",
     "output_type": "stream",
     "text": [
      "Enter a = 5\n",
      "Enter b = 6\n",
      "Enter + - * / -\n",
      "-1\n"
     ]
    }
   ],
   "source": [
    "#function with argument and return using elif\n",
    "def add(a,b):\n",
    "    return a+b\n",
    "def sub(a,b):\n",
    "    return a-b\n",
    "def mul(a,b):\n",
    "    return a*b\n",
    "def div(a,b):\n",
    "    return a/b\n",
    "\n",
    "def cal(a,b,o):\n",
    "    if o == '+':\n",
    "        print(add(a,b))\n",
    "    elif o == '-':\n",
    "        print(sub(a,b))\n",
    "    elif o == '*':\n",
    "        print(mul(a,b))\n",
    "    elif o == '/':\n",
    "        print(div(a,b))\n",
    "    else:\n",
    "        print(\"Please enter valid operator\")\n",
    "        \n",
    "a = int(input(\"Enter a = \"))\n",
    "b = int(input(\"Enter b = \"))\n",
    "o = input(\"Enter + - * / \")\n",
    "\n",
    "cal(a,b,o)"
   ]
  },
  {
   "cell_type": "markdown",
   "id": "5aff576f",
   "metadata": {},
   "source": []
  },
  {
   "cell_type": "code",
   "execution_count": null,
   "id": "7b891f97",
   "metadata": {},
   "outputs": [],
   "source": []
  }
 ],
 "metadata": {
  "kernelspec": {
   "display_name": "Python 3 (ipykernel)",
   "language": "python",
   "name": "python3"
  },
  "language_info": {
   "codemirror_mode": {
    "name": "ipython",
    "version": 3
   },
   "file_extension": ".py",
   "mimetype": "text/x-python",
   "name": "python",
   "nbconvert_exporter": "python",
   "pygments_lexer": "ipython3",
   "version": "3.11.5"
  }
 },
 "nbformat": 4,
 "nbformat_minor": 5
}
