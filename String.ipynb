{
 "cells": [
  {
   "cell_type": "code",
   "execution_count": 1,
   "id": "924ea70a-c28b-480e-9cc3-af37e404547a",
   "metadata": {
    "tags": []
   },
   "outputs": [
    {
     "name": "stdout",
     "output_type": "stream",
     "text": [
      "Hello world I am Ram. I am from Kathmandu. I am 67.\n"
     ]
    }
   ],
   "source": [
    "#string formatting\n",
    "name=\"Ram\"\n",
    "age=67\n",
    "add=\"Kathmandu\"\n",
    "\n",
    "info=f\"Hello world I am {name}. I am from {add}. I am {age}.\"\n",
    "print(info)"
   ]
  },
  {
   "cell_type": "code",
   "execution_count": 6,
   "id": "5d5de630-2536-4096-8d0b-132d5ea72791",
   "metadata": {
    "tags": []
   },
   "outputs": [
    {
     "name": "stdin",
     "output_type": "stream",
     "text": [
      "Enter n= 2\n",
      "Enter name=  Ram\n",
      "Enter age=  34\n",
      "Enter add =  Ktm\n"
     ]
    },
    {
     "name": "stdout",
     "output_type": "stream",
     "text": [
      "Ram 34 Ktm\n",
      "\n"
     ]
    },
    {
     "name": "stdin",
     "output_type": "stream",
     "text": [
      "Enter name=  Shambhawi\n",
      "Enter age=  28\n",
      "Enter add =  Anamnagar\n"
     ]
    },
    {
     "name": "stdout",
     "output_type": "stream",
     "text": [
      "Ram 34 Ktm\n",
      "Shambhawi 28 Anamnagar\n",
      "\n"
     ]
    }
   ],
   "source": [
    "s=\"\"\n",
    "n=int(input(\"Enter n=\"))\n",
    "for i in range(n):\n",
    "    name = input(\"Enter name= \")\n",
    "    age= int(input(\"Enter age= \"))\n",
    "    add= input(\"Enter add = \")\n",
    "    info=f\"{name} {age} {add}\\n\"\n",
    "    s = s + info\n",
    "             \n",
    "    print(s)\n",
    "             "
   ]
  },
  {
   "cell_type": "code",
   "execution_count": 8,
   "id": "e2889a48-3cde-401e-b8e2-f06815297a3f",
   "metadata": {
    "tags": []
   },
   "outputs": [
    {
     "data": {
      "text/plain": [
       "11"
      ]
     },
     "execution_count": 8,
     "metadata": {},
     "output_type": "execute_result"
    }
   ],
   "source": [
    "len(a)"
   ]
  },
  {
   "cell_type": "code",
   "execution_count": 7,
   "id": "a61a2c14-f3c4-40ec-be5b-72e2079059a5",
   "metadata": {
    "tags": []
   },
   "outputs": [
    {
     "name": "stdout",
     "output_type": "stream",
     "text": [
      "Hello World\n"
     ]
    }
   ],
   "source": [
    "a=\"Hello World\"\n",
    "print(a)"
   ]
  },
  {
   "cell_type": "code",
   "execution_count": 9,
   "id": "67ab7e5c-55f1-4398-860d-2846018ee66c",
   "metadata": {
    "tags": []
   },
   "outputs": [
    {
     "data": {
      "text/plain": [
       "'dlroW olleH'"
      ]
     },
     "execution_count": 9,
     "metadata": {},
     "output_type": "execute_result"
    }
   ],
   "source": [
    "a[::-1]"
   ]
  },
  {
   "cell_type": "code",
   "execution_count": 21,
   "id": "72519d54-67b5-4cdc-86c0-a600fcbd24e2",
   "metadata": {
    "tags": []
   },
   "outputs": [
    {
     "name": "stdin",
     "output_type": "stream",
     "text": [
      "Enter name=  ram\n"
     ]
    },
    {
     "name": "stdout",
     "output_type": "stream",
     "text": [
      "No\n"
     ]
    }
   ],
   "source": [
    "#Search in string\n",
    "a=\"Ram Shyam Hari Sita Gita Ramesh\".lower()\n",
    "name=input('Enter name= ').lower()\n",
    "if\"Shyam\" in a:\n",
    "    print(\"Yes\")\n",
    "    print(a.count(name))    #counts no of names present in a\n",
    "else:\n",
    "    print(\"No\")"
   ]
  },
  {
   "cell_type": "code",
   "execution_count": 18,
   "id": "172ea7bd-46ee-4ba6-8a86-91d33987a091",
   "metadata": {
    "tags": []
   },
   "outputs": [
    {
     "name": "stdout",
     "output_type": "stream",
     "text": [
      "ram shyam hari gita ramesh\n",
      "RAM SHYAM HARI GITA RAMESH\n",
      "Ram Shyam Hari Gita Ramesh\n"
     ]
    }
   ],
   "source": [
    "a=\"Ram Shyam Hari Gita Ramesh\"\n",
    "print(a.lower())\n",
    "print(a.upper())\n",
    "print (a)    #immutable string: it will print is original a value"
   ]
  },
  {
   "cell_type": "code",
   "execution_count": null,
   "id": "15b8c392-8409-403d-8fb6-2cf5557f7875",
   "metadata": {},
   "outputs": [],
   "source": []
  }
 ],
 "metadata": {
  "kernelspec": {
   "display_name": "Python 3 (ipykernel)",
   "language": "python",
   "name": "python3"
  },
  "language_info": {
   "codemirror_mode": {
    "name": "ipython",
    "version": 3
   },
   "file_extension": ".py",
   "mimetype": "text/x-python",
   "name": "python",
   "nbconvert_exporter": "python",
   "pygments_lexer": "ipython3",
   "version": "3.11.5"
  }
 },
 "nbformat": 4,
 "nbformat_minor": 5
}
