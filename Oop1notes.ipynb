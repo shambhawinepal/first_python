{
 "cells": [
  {
   "cell_type": "code",
   "execution_count": null,
   "id": "84b55ca6",
   "metadata": {},
   "outputs": [],
   "source": [
    "# class <class_name>()"
   ]
  },
  {
   "cell_type": "code",
   "execution_count": 1,
   "id": "5b46a030",
   "metadata": {},
   "outputs": [
    {
     "name": "stdout",
     "output_type": "stream",
     "text": [
      "Hello World\n"
     ]
    }
   ],
   "source": [
    "class Hello:   #class  Note:a class is always capital\n",
    "    def hello(self):     #method\n",
    "        print(\"Hello World\")\n",
    "        \n",
    "obj=Hello()     #object\n",
    "obj.hello()"
   ]
  },
  {
   "cell_type": "code",
   "execution_count": 2,
   "id": "826b6ccb",
   "metadata": {},
   "outputs": [
    {
     "name": "stdout",
     "output_type": "stream",
     "text": [
      "Hello World\n"
     ]
    }
   ],
   "source": [
    "class Hello:  #Research static method\n",
    "    @staticmethod    #decorator / if youre not gonna keep self\n",
    "    def hello():\n",
    "        print(\"Hello World\")\n",
    "        \n",
    "obj = Hello\n",
    "obj.hello()"
   ]
  },
  {
   "cell_type": "code",
   "execution_count": 6,
   "id": "2c3b5cba",
   "metadata": {},
   "outputs": [
    {
     "name": "stdout",
     "output_type": "stream",
     "text": [
      "50\n",
      "100\n"
     ]
    }
   ],
   "source": [
    "class Cal:\n",
    "    def area(self,l,b):\n",
    "        a = l*b\n",
    "        print(a)\n",
    "    def volume(self,l,b,h):\n",
    "            v = l*b*h\n",
    "            print(v)\n",
    "            \n",
    "obj=Cal()\n",
    "obj.area(10,5)\n",
    "obj.volume(10,5,2)       "
   ]
  },
  {
   "cell_type": "code",
   "execution_count": 8,
   "id": "0d82c655",
   "metadata": {},
   "outputs": [
    {
     "name": "stdout",
     "output_type": "stream",
     "text": [
      "50\n",
      "100\n"
     ]
    }
   ],
   "source": [
    "class Cal:     #this is always capital\n",
    "    def __init__(self,l,b,h):   #2times underscore is don\n",
    "        self.l = l\n",
    "        self.b = b\n",
    "        self.h = h\n",
    "    \n",
    "    def area(self):\n",
    "        a = self.l*self.b\n",
    "        print(a)\n",
    "    def volume(self):\n",
    "            v = self.l*self.b*self.h\n",
    "            print(v)\n",
    "            \n",
    "obj=Cal(10,5,2)\n",
    "obj.area()\n",
    "obj.volume()       \n"
   ]
  },
  {
   "cell_type": "code",
   "execution_count": 9,
   "id": "31da9a79",
   "metadata": {},
   "outputs": [
    {
     "name": "stdout",
     "output_type": "stream",
     "text": [
      "50\n",
      "100\n"
     ]
    }
   ],
   "source": [
    "#making 2 classes\n",
    "\n",
    "class Area:     #this is always capital\n",
    "    def __init__(self,l,b):   #2times underscore is don\n",
    "        self.l = l\n",
    "        self.b = b\n",
    "    \n",
    "    def area(self):\n",
    "        a = self.l*self.b\n",
    "        print(a)\n",
    "        \n",
    "class Volume:\n",
    "    def __init__(self,l,b,h):\n",
    "        self.l = l\n",
    "        self.b = b\n",
    "        self.h = h\n",
    "    \n",
    "    def volume(self):\n",
    "            v = self.l*self.b*self.h\n",
    "            print(v)\n",
    "            \n",
    "obj1=Area(10,5)\n",
    "obj2=Volume(10,5,2)\n",
    "obj.area()\n",
    "obj.volume()       \n",
    "\n"
   ]
  },
  {
   "cell_type": "code",
   "execution_count": 15,
   "id": "896fa321",
   "metadata": {},
   "outputs": [
    {
     "name": "stdout",
     "output_type": "stream",
     "text": [
      "Hello World I am Ram. I am from Kathmandu. I am 34\n",
      "<class '__main__.Info'>\n"
     ]
    }
   ],
   "source": [
    "class Info:\n",
    "    def __init__(self,name,age,add):\n",
    "        self.name = name\n",
    "        self.age = age\n",
    "        self.add = add\n",
    "        \n",
    "    def info(self):\n",
    "        print(f\"Hello World I am {self.name}. I am from {self.add}. I am {self.age}\")\n",
    "        \n",
    "    def __str__(self):\n",
    "            return self.name\n",
    "        \n",
    "obj = Info(\"Ram\",34,\"Kathmandu\")\n",
    "obj.info()\n",
    "print(type(obj))"
   ]
  },
  {
   "cell_type": "code",
   "execution_count": null,
   "id": "e92fd8af",
   "metadata": {},
   "outputs": [],
   "source": []
  }
 ],
 "metadata": {
  "kernelspec": {
   "display_name": "Python 3 (ipykernel)",
   "language": "python",
   "name": "python3"
  },
  "language_info": {
   "codemirror_mode": {
    "name": "ipython",
    "version": 3
   },
   "file_extension": ".py",
   "mimetype": "text/x-python",
   "name": "python",
   "nbconvert_exporter": "python",
   "pygments_lexer": "ipython3",
   "version": "3.11.5"
  }
 },
 "nbformat": 4,
 "nbformat_minor": 5
}
