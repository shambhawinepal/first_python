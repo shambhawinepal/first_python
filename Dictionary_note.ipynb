{
 "cells": [
  {
   "cell_type": "code",
   "execution_count": 1,
   "id": "e42a2f99-3f39-4490-a577-6db653966ff0",
   "metadata": {
    "tags": []
   },
   "outputs": [],
   "source": [
    "#In a dictionary\n",
    "\n",
    "#-Indexing\n",
    "#-Ordered\n",
    "#-Multiple and duplicate data\n",
    "#-Mutable"
   ]
  },
  {
   "cell_type": "code",
   "execution_count": 2,
   "id": "4c8d6d9b-f1dc-4364-8060-78a072009525",
   "metadata": {
    "tags": []
   },
   "outputs": [],
   "source": [
    "#Syntax\n",
    "#d={<key>:<value>, <key>:<value>}"
   ]
  },
  {
   "cell_type": "code",
   "execution_count": 3,
   "id": "f03a2c7e-255a-400d-a7a6-819bb68fdf78",
   "metadata": {
    "tags": []
   },
   "outputs": [
    {
     "name": "stdout",
     "output_type": "stream",
     "text": [
      "{'a': 'apple', 'b': 'ball', 'c': 'cat'}\n",
      "<class 'dict'>\n"
     ]
    }
   ],
   "source": [
    "d={'a':'apple', 'b':'ball', 'c':'cat'}\n",
    "print(d)\n",
    "print(type(d))"
   ]
  },
  {
   "cell_type": "code",
   "execution_count": 5,
   "id": "aa4f8dbd-2f9d-4010-959c-e374e9f8bd71",
   "metadata": {
    "tags": []
   },
   "outputs": [
    {
     "name": "stdout",
     "output_type": "stream",
     "text": [
      "apple\n",
      "cat\n"
     ]
    }
   ],
   "source": [
    "print(d['a'])\n",
    "print(d['c'])"
   ]
  },
  {
   "cell_type": "code",
   "execution_count": 14,
   "id": "053e4681-f8ed-4add-b6ef-989001357b62",
   "metadata": {
    "tags": []
   },
   "outputs": [
    {
     "name": "stdout",
     "output_type": "stream",
     "text": [
      "{'a': 'ant', 'b': 'ball', 'c': 'cat'}\n"
     ]
    }
   ],
   "source": [
    "d={'a':'apple', 'b':'ball', 'c':'cat', 'a':'ant'} #You can not duplicate a key\n",
    "print(d)\n",
    "#duplicate key will ignore its prvious value, thus is mutable\n",
    "#a key can never be changed "
   ]
  },
  {
   "cell_type": "code",
   "execution_count": 19,
   "id": "63a6f48e-ced8-4000-9610-9c92d71c2766",
   "metadata": {
    "tags": []
   },
   "outputs": [
    {
     "data": {
      "text/plain": [
       "{'a': 'Ant', 'b': 'ball', 'c': 'cat'}"
      ]
     },
     "execution_count": 19,
     "metadata": {},
     "output_type": "execute_result"
    }
   ],
   "source": [
    "#Update\n",
    "d={'a':'apple', 'b':'ball', 'c':'cat'}\n",
    "d['a']='Apple'    #Change case or value\n",
    "d"
   ]
  },
  {
   "cell_type": "code",
   "execution_count": 20,
   "id": "73daf9dc-5a1c-4789-b3d2-ef288cc92734",
   "metadata": {
    "tags": []
   },
   "outputs": [
    {
     "data": {
      "text/plain": [
       "{'a': 'apple', 'b': 'ball', 'c': 'cat'}"
      ]
     },
     "execution_count": 20,
     "metadata": {},
     "output_type": "execute_result"
    }
   ],
   "source": [
    "#d = dict()   \n",
    "d={}\n",
    "d['a']='apple'     \n",
    "d['b']='ball'\n",
    "d['c']='cat'\n",
    "d"
   ]
  },
  {
   "cell_type": "code",
   "execution_count": 24,
   "id": "bcdefb73-85ee-4375-a086-d2837929e4fc",
   "metadata": {
    "tags": []
   },
   "outputs": [
    {
     "name": "stdin",
     "output_type": "stream",
     "text": [
      "Enter n=  1\n",
      "Enter name =  Shambhawi\n",
      "Enter phone =  9849943262\n"
     ]
    },
    {
     "name": "stdout",
     "output_type": "stream",
     "text": [
      "{'9849943262': 'Shambhawi'}\n"
     ]
    }
   ],
   "source": [
    "#taking input\n",
    "d={}\n",
    "n=int(input(\"Enter n= \"))\n",
    "for i in range(n):\n",
    "    name= input(\"Enter name = \")\n",
    "    phone= input(\"Enter phone = \")\n",
    "    d[phone]= name\n",
    "    \n",
    "print(d)\n",
    "\n"
   ]
  },
  {
   "cell_type": "code",
   "execution_count": 26,
   "id": "a8daaf63-06cc-4b97-b78f-f098ecf18c9c",
   "metadata": {
    "tags": []
   },
   "outputs": [
    {
     "name": "stdout",
     "output_type": "stream",
     "text": [
      "Ram\n",
      "Shyam\n"
     ]
    }
   ],
   "source": [
    "#will only print the values from dictionary\n",
    "d = {'9849943262':'Ram', '9841810400': 'Shyam'}\n",
    "for i in d.values():\n",
    "    print(i)"
   ]
  },
  {
   "cell_type": "code",
   "execution_count": 31,
   "id": "caef7cfd-e30f-4600-ae9c-62782ff74236",
   "metadata": {
    "tags": []
   },
   "outputs": [
    {
     "name": "stdout",
     "output_type": "stream",
     "text": [
      "('9849943262', 'Ram')\n",
      "('9841810400', 'Shyam')\n"
     ]
    }
   ],
   "source": [
    "#Will print key and values from the dictionary\n",
    "d = {'9849943262':'Ram', '9841810400': 'Shyam'}\n",
    "for i in d.items():\n",
    "    print(i)"
   ]
  },
  {
   "cell_type": "code",
   "execution_count": 37,
   "id": "64c68cf1-4140-4257-b49d-a5e65bfcf894",
   "metadata": {
    "tags": []
   },
   "outputs": [
    {
     "name": "stdout",
     "output_type": "stream",
     "text": [
      "<class 'tuple'>\n"
     ]
    }
   ],
   "source": [
    "#When we convert a tuple into a dictionary\n",
    "t = (('9849943262','Ram'), ('9841810400', 'Shyam'))\n",
    "d= dict(t)\n",
    "d\n"
   ]
  },
  {
   "cell_type": "code",
   "execution_count": 49,
   "id": "5f46ff6b-f94d-46a5-9955-2b0eb768e6f8",
   "metadata": {
    "tags": []
   },
   "outputs": [
    {
     "data": {
      "text/plain": [
       "{'9841810400': 'Shyam'}"
      ]
     },
     "execution_count": 49,
     "metadata": {},
     "output_type": "execute_result"
    }
   ],
   "source": [
    "#Deleteing a value in dictionary using del pop()\n",
    "a={'9849943262':'Ram', '9841519171':'Shyam'}\n",
    "del d['9849943262']\n",
    "d"
   ]
  },
  {
   "cell_type": "code",
   "execution_count": 50,
   "id": "8f28c1ce-a1a8-46fc-b0a9-a4bb0677026a",
   "metadata": {
    "tags": []
   },
   "outputs": [
    {
     "name": "stdout",
     "output_type": "stream",
     "text": [
      "{'9849943262': 'Ram', '9841519171': 'Shyam', 1: 1, 2: 4, 3: 9}\n"
     ]
    }
   ],
   "source": [
    "#You cant concatinate,so you only update\n",
    "a={'9849943262':'Ram', '9841519171':'Shyam'}\n",
    "b={1:1, 2:4, 3:9}\n",
    "a.update(b)\n",
    "print(a)\n"
   ]
  },
  {
   "cell_type": "code",
   "execution_count": 58,
   "id": "e1004733-f3de-4ae1-b174-ae7f241161a2",
   "metadata": {
    "tags": []
   },
   "outputs": [
    {
     "name": "stdout",
     "output_type": "stream",
     "text": [
      "{'name': ['Ram', 'Shyam', 'Hari', 'Sita'], 'age': ['21', '22', '23', '24'], 'add': ['ktm', 'bkrlpr', 'pkr']}\n"
     ]
    }
   ],
   "source": [
    "d={'name':['Ram','Shyam','Hari','Sita'],\n",
    "    'age':['21','22','23','24'],\n",
    "    'add':['ktm','bkr''lpr','pkr']}\n",
    "print(d)\n",
    "#Incomplete\n",
    "   "
   ]
  },
  {
   "cell_type": "code",
   "execution_count": 70,
   "id": "eed2523c-b9fe-4efc-8d54-07b289604e9c",
   "metadata": {
    "tags": []
   },
   "outputs": [],
   "source": [
    "#List inside dictionary\n",
    "#d={'name':[],'age':[],'add':[]}\n",
    "#n=int(input(\"Enter n= \"))\n",
    "#for i in range(n):\n",
    "#    name=input(\"Enter name = \")\n",
    "#    age=input(\"Enter age = \")\n",
    "#    add=input(\"Enter add= \" )\n",
    "#    d['name'].append(name)\n",
    "#   d['age'].append(age)\n",
    "#    d['add'].append(add)\n",
    "\n",
    "#    print(d)"
   ]
  },
  {
   "cell_type": "code",
   "execution_count": 67,
   "id": "d20be843-a9d4-4b9a-b943-a56ca4554f06",
   "metadata": {
    "tags": []
   },
   "outputs": [],
   "source": [
    "#Dictionary inside list\n",
    "\n",
    "#(l=[]\n",
    "#n=int(input(\"Enter n= \"))\n",
    "#for i in range(n):\n",
    "#    name=input(\"Enter name = \")\n",
    "#    age=input(\"Enter age = \")\n",
    "#    add=input(\"Enter add= \" )\n",
    "#    d={'name':name,'age':age,'add':add}\n",
    "#    l.append(d)\n",
    "#l"
   ]
  },
  {
   "cell_type": "code",
   "execution_count": 71,
   "id": "90fc0b66-a441-444c-b496-02f0d828fda9",
   "metadata": {
    "tags": []
   },
   "outputs": [],
   "source": [
    "#d={1:{'name': 'Sham', 'age': '23', 'add': 'anamnagar'},\n",
    "#   2:{'name': 'luna', 'age': '23', 'add': 'satdobato'}}\n",
    "#d\n",
    "\n",
    "   "
   ]
  },
  {
   "cell_type": "code",
   "execution_count": 81,
   "id": "f9c04062-600a-463b-a5bb-762e4fb4890b",
   "metadata": {
    "tags": []
   },
   "outputs": [
    {
     "name": "stdin",
     "output_type": "stream",
     "text": [
      "Enter n=  2\n",
      "Enter name =  sham\n",
      "Enter age =  23\n",
      "Enter add=  bkr\n",
      "Enter name =  laxmi\n",
      "Enter age =  23\n",
      "Enter add=  pkr\n"
     ]
    },
    {
     "data": {
      "text/plain": [
       "{1: {'name': 'sham', 'age': '23', 'add': 'bkr'},\n",
       " 2: {'name': 'laxmi', 'age': '23', 'add': 'pkr'}}"
      ]
     },
     "execution_count": 81,
     "metadata": {},
     "output_type": "execute_result"
    }
   ],
   "source": [
    "#Asking with user\n",
    "\n",
    "d={}\n",
    "n=int(input(\"Enter n= \"))\n",
    "for i in range(1,n+1):\n",
    "    name=input(\"Enter name = \")\n",
    "    age=input(\"Enter age = \")\n",
    "    add=input(\"Enter add= \" )\n",
    "    dd={'name':name,'age':age,'add':add}\n",
    "    d[i]=dd #use different key than d\n",
    "d"
   ]
  },
  {
   "cell_type": "code",
   "execution_count": 83,
   "id": "f91b7311-5ffc-42ed-96f1-bff9439f2a61",
   "metadata": {
    "tags": []
   },
   "outputs": [
    {
     "data": {
      "text/plain": [
       "({'name': 'sham', 'age': '23', 'add': 'bkr'}, ['name'])"
      ]
     },
     "execution_count": 83,
     "metadata": {},
     "output_type": "execute_result"
    }
   ],
   "source": [
    "#print the value of 1 on dict\n",
    "d[1]"
   ]
  },
  {
   "cell_type": "code",
   "execution_count": 85,
   "id": "a6cefe1a-a3ff-42f5-a1f8-59f6271e28d0",
   "metadata": {
    "tags": []
   },
   "outputs": [
    {
     "data": {
      "text/plain": [
       "'sham'"
      ]
     },
     "execution_count": 85,
     "metadata": {},
     "output_type": "execute_result"
    }
   ],
   "source": [
    "#for name\n",
    "d[1]['name']"
   ]
  },
  {
   "cell_type": "code",
   "execution_count": 87,
   "id": "e08aa5aa-4ace-4c08-8684-0c0935e045d1",
   "metadata": {
    "tags": []
   },
   "outputs": [
    {
     "data": {
      "text/plain": [
       "{1: {'name': 'sham', 'age': '23', 'add': 'bkr'},\n",
       " 2: {'name': 'Asmit', 'age': '23', 'add': 'pkr'}}"
      ]
     },
     "execution_count": 87,
     "metadata": {},
     "output_type": "execute_result"
    }
   ],
   "source": [
    "#to change the vale in a particular d[key] key\n",
    "d[2]['name']=\"Asmit\"\n",
    "d"
   ]
  },
  {
   "cell_type": "code",
   "execution_count": null,
   "id": "ada6b4b1-c88d-463c-a2dd-8a521235e0d1",
   "metadata": {},
   "outputs": [],
   "source": []
  }
 ],
 "metadata": {
  "kernelspec": {
   "display_name": "Python 3 (ipykernel)",
   "language": "python",
   "name": "python3"
  },
  "language_info": {
   "codemirror_mode": {
    "name": "ipython",
    "version": 3
   },
   "file_extension": ".py",
   "mimetype": "text/x-python",
   "name": "python",
   "nbconvert_exporter": "python",
   "pygments_lexer": "ipython3",
   "version": "3.11.5"
  }
 },
 "nbformat": 4,
 "nbformat_minor": 5
}
