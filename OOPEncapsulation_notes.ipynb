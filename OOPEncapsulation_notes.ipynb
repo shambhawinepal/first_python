{
 "cells": [
  {
   "cell_type": "code",
   "execution_count": 1,
   "id": "00702d95",
   "metadata": {},
   "outputs": [],
   "source": [
    "#Encapsulation\n",
    "# 1.Public\n",
    "# 2.Protected\n",
    "# 3.Private"
   ]
  },
  {
   "cell_type": "code",
   "execution_count": 2,
   "id": "03888094",
   "metadata": {},
   "outputs": [
    {
     "name": "stdout",
     "output_type": "stream",
     "text": [
      "Ram\n",
      "Kathmandu\n",
      "34\n"
     ]
    }
   ],
   "source": [
    "#public variable\n",
    "\n",
    "class Data:\n",
    "    def __init__(self):\n",
    "        self.name = \"Ram\"\n",
    "        self.age = 34\n",
    "        self.add = \"Kathmandu\"\n",
    "        \n",
    "obj = Data()\n",
    "print(obj.name)\n",
    "print(obj.add)\n",
    "print(obj.age)"
   ]
  },
  {
   "cell_type": "code",
   "execution_count": 3,
   "id": "f77b6663",
   "metadata": {},
   "outputs": [
    {
     "name": "stdout",
     "output_type": "stream",
     "text": [
      "Ram 34 Kathmandu\n",
      "Hello World I am Ram. I am from Kathmandu. I am 34 years old.\n",
      "Ram\n",
      "34\n",
      "Kathmandu\n"
     ]
    }
   ],
   "source": [
    "#Protected data\n",
    "class Data:\n",
    "    def __init__(self):\n",
    "        self._name = \"Ram\"\n",
    "        self._age = 34\n",
    "        self._add = \"Kathmandu\"\n",
    "    def data(self):\n",
    "        print(self._name,self._age,self._add)\n",
    "        \n",
    "class Info(Data):\n",
    "    def info(self):\n",
    "        print(f\"Hello World I am {self._name}. I am from {self._add}. I am {self._age} years old.\")\n",
    "        \n",
    "\n",
    "        \n",
    "obj = Info()\n",
    "obj.data()\n",
    "obj.info()\n",
    "\n",
    "#Accessing protected attributes\n",
    "print(obj._name)\n",
    "print(obj._age)\n",
    "print(obj._add)"
   ]
  },
  {
   "cell_type": "code",
   "execution_count": 4,
   "id": "0fb9a8f4",
   "metadata": {},
   "outputs": [
    {
     "name": "stdout",
     "output_type": "stream",
     "text": [
      "Ram 34 Kathmandu\n",
      "Hello World I am Ram . I am 34 years old.\n",
      "Ram\n",
      "34\n",
      "Kathmandu\n"
     ]
    }
   ],
   "source": [
    "#Private\n",
    "\n",
    "class Data:\n",
    "    def __init__(self):\n",
    "        self.name = \"Ram\"              #public\n",
    "        self._age = 34                  #protected\n",
    "        self.__add = \"Kathmandu\"        #private data \n",
    "    def data(self):\n",
    "        print(self.name,self._age,self.__add)\n",
    "        \n",
    "class Info(Data):\n",
    "    def info(self):      \n",
    "        print(f\"Hello World I am {self.name} . I am {self._age} years old.\")\n",
    "        #we have removed address from printing. Because it is an encapsulated data.\n",
    "        \n",
    "\n",
    "        \n",
    "obj = Info()\n",
    "obj.data()\n",
    "obj.info()\n",
    "\n",
    "#Accessing protected attributes\n",
    "print(obj.name)\n",
    "print(obj._age)\n",
    "\n",
    "#Accessing private attribute using name mangling\n",
    "print(obj._Data__add)\n"
   ]
  },
  {
   "cell_type": "code",
   "execution_count": null,
   "id": "58e131c4",
   "metadata": {},
   "outputs": [],
   "source": []
  }
 ],
 "metadata": {
  "kernelspec": {
   "display_name": "Python 3 (ipykernel)",
   "language": "python",
   "name": "python3"
  },
  "language_info": {
   "codemirror_mode": {
    "name": "ipython",
    "version": 3
   },
   "file_extension": ".py",
   "mimetype": "text/x-python",
   "name": "python",
   "nbconvert_exporter": "python",
   "pygments_lexer": "ipython3",
   "version": "3.11.5"
  }
 },
 "nbformat": 4,
 "nbformat_minor": 5
}
