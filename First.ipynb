{
 "cells": [
  {
   "cell_type": "code",
   "execution_count": 1,
   "id": "d3a7875e-2c14-42ea-ad0c-13642f5d20a0",
   "metadata": {
    "tags": []
   },
   "outputs": [
    {
     "name": "stdout",
     "output_type": "stream",
     "text": [
      "13\n"
     ]
    }
   ],
   "source": [
    "#Addition of 2 int\n",
    "a=10\n",
    "b=3\n",
    "c=a+b\n",
    "print(c)"
   ]
  },
  {
   "cell_type": "code",
   "execution_count": 2,
   "id": "704dbb97-70fd-4b68-9639-24928d133438",
   "metadata": {
    "tags": []
   },
   "outputs": [
    {
     "name": "stdout",
     "output_type": "stream",
     "text": [
      "30\n"
     ]
    }
   ],
   "source": [
    "#multiplication of 2 int\n",
    "a=10\n",
    "b=3\n",
    "c=a*b\n",
    "print(c)"
   ]
  },
  {
   "cell_type": "code",
   "execution_count": 3,
   "id": "94b1241d-0fde-469c-9a64-91ffa60e9eb5",
   "metadata": {
    "tags": []
   },
   "outputs": [
    {
     "name": "stdout",
     "output_type": "stream",
     "text": [
      "1000\n"
     ]
    }
   ],
   "source": [
    "#power\n",
    "a=10\n",
    "b=3\n",
    "c=a**b #A 3 times\n",
    "print(c)"
   ]
  },
  {
   "cell_type": "code",
   "execution_count": 5,
   "id": "50fb3257-a3f3-4292-ad47-61cb8d900461",
   "metadata": {
    "tags": []
   },
   "outputs": [
    {
     "name": "stdout",
     "output_type": "stream",
     "text": [
      "3\n"
     ]
    }
   ],
   "source": [
    "#float divison: to get whole value of the quotient \n",
    "a=10\n",
    "b=3\n",
    "c=a//b\n",
    "print(c)"
   ]
  },
  {
   "cell_type": "code",
   "execution_count": 12,
   "id": "bd4aa515-bbe0-4eeb-aae7-1388d6f7589d",
   "metadata": {
    "tags": []
   },
   "outputs": [
    {
     "name": "stdout",
     "output_type": "stream",
     "text": [
      "Apple Ball\n"
     ]
    }
   ],
   "source": [
    "#Concatinating 2 integers\n",
    "a=\"Apple\"\n",
    "b=\"Ball\"\n",
    "c=a+\" \" +b   #\" \" is for space\n",
    "print(c)"
   ]
  },
  {
   "cell_type": "code",
   "execution_count": 20,
   "id": "9ca933ad-2e86-49b1-b0e5-bab05b6b4fdc",
   "metadata": {
    "tags": []
   },
   "outputs": [
    {
     "name": "stdout",
     "output_type": "stream",
     "text": [
      "Hello WorldHello World\n"
     ]
    }
   ],
   "source": [
    "#Print Hello world in the same line 2 times\n",
    "a=\"Hello World\" #\"Hello World\\n to write hello world 2 times in two seperate lines\"\n",
    "b=2\n",
    "c=a*b  #or you can just write a*2\n",
    "print(c)"
   ]
  },
  {
   "cell_type": "code",
   "execution_count": 22,
   "id": "d4401b2e-1ce0-4024-bacf-3746f07df49a",
   "metadata": {
    "tags": []
   },
   "outputs": [
    {
     "name": "stdout",
     "output_type": "stream",
     "text": [
      "1\n"
     ]
    }
   ],
   "source": [
    "#Addition of Boolean\n",
    "a=True\n",
    "b=False\n",
    "print(a+b)"
   ]
  },
  {
   "cell_type": "code",
   "execution_count": 23,
   "id": "f785e199-6e8e-4f02-837d-0c90a9890b0d",
   "metadata": {
    "tags": []
   },
   "outputs": [
    {
     "name": "stdout",
     "output_type": "stream",
     "text": [
      "0\n"
     ]
    }
   ],
   "source": [
    "#Multiplication of Boolean\n",
    "a=True\n",
    "b=False\n",
    "print(a*b)"
   ]
  },
  {
   "cell_type": "code",
   "execution_count": null,
   "id": "f09f4f8e-ad62-41a6-a5fa-5ed475cf5018",
   "metadata": {},
   "outputs": [],
   "source": []
  }
 ],
 "metadata": {
  "kernelspec": {
   "display_name": "Python 3 (ipykernel)",
   "language": "python",
   "name": "python3"
  },
  "language_info": {
   "codemirror_mode": {
    "name": "ipython",
    "version": 3
   },
   "file_extension": ".py",
   "mimetype": "text/x-python",
   "name": "python",
   "nbconvert_exporter": "python",
   "pygments_lexer": "ipython3",
   "version": "3.11.5"
  }
 },
 "nbformat": 4,
 "nbformat_minor": 5
}
