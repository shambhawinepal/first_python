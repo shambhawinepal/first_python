{
 "cells": [
  {
   "cell_type": "code",
   "execution_count": null,
   "id": "61df69e2",
   "metadata": {},
   "outputs": [],
   "source": [
    "# class A:\n",
    "# pass\n",
    "\n",
    "#class B(A):\n",
    "#pass\n",
    "\n",
    "#obj = B()"
   ]
  },
  {
   "cell_type": "code",
   "execution_count": 19,
   "id": "8a6401bb",
   "metadata": {
    "scrolled": true
   },
   "outputs": [
    {
     "name": "stdout",
     "output_type": "stream",
     "text": [
      "Ram 34 Kathmandu\n",
      "Hello World I am Ram. I am from Kathmandu. I am 34\n"
     ]
    }
   ],
   "source": [
    "class Data:\n",
    "    def __init__(self):\n",
    "        self.name=\"Ram\"\n",
    "        self.age= 34\n",
    "        self.add= \"Kathmandu\"\n",
    "    def data(self):\n",
    "        print(self.name,self.age,self.add)\n",
    "\n",
    "class Info(Data):\n",
    "    def info(self):\n",
    "        print(f\"Hello World I am {self.name}. I am from {self.add}. I am {self.age}\")\n",
    "        \n",
    "obj = Info()\n",
    "obj.data()\n",
    "obj.info()"
   ]
  },
  {
   "cell_type": "code",
   "execution_count": 23,
   "id": "3e90ae24",
   "metadata": {},
   "outputs": [
    {
     "name": "stdout",
     "output_type": "stream",
     "text": [
      "Ram 34 Kathmandu\n",
      "Hello World! I am Ram. I am from Kathmandu. I am 34 years old.\n"
     ]
    }
   ],
   "source": [
    "class Data:                             #parent class\n",
    "    def __init__(self,name,age,add):\n",
    "        self.name = name\n",
    "        self.age = age\n",
    "        self.add = add\n",
    "    \n",
    "    def data(self):\n",
    "        print(self.name,self.age,self.add)\n",
    "\n",
    "class Info(Data):                       #child class\n",
    "    def info(self):\n",
    "        print(f\"Hello World! I am {self.name}. I am from {self.add}. I am {self.age} years old.\")\n",
    "        \n",
    "obj = Info(\"Ram\",34,\"Kathmandu\")\n",
    "obj.data()\n",
    "obj.info()"
   ]
  },
  {
   "cell_type": "code",
   "execution_count": 25,
   "id": "d388c052",
   "metadata": {
    "scrolled": true
   },
   "outputs": [],
   "source": [
    "#Multilevel inheritence\n",
    "#Class A:\n",
    "#    pass\n",
    "\n",
    "#Class B(A):\n",
    "#   pass\n",
    "\n",
    "#Class C(B):\n",
    "#    pass\n",
    "\n",
    "#obj = C()"
   ]
  },
  {
   "cell_type": "code",
   "execution_count": 33,
   "id": "be7c275b",
   "metadata": {},
   "outputs": [
    {
     "name": "stdout",
     "output_type": "stream",
     "text": [
      "34 Kathmandu\n",
      "Hello World! I am Ram. I am from Kathmandu. I am 34 years old.\n"
     ]
    }
   ],
   "source": [
    "class Address: \n",
    "    def __init__(self,add):\n",
    "        self.add = add\n",
    "    \n",
    "    def my_add(self):\n",
    "        print(self.add)\n",
    "        \n",
    "class Data(Address):                             #parent class\n",
    "    def __init__(self,age,add):\n",
    "        self.age = age\n",
    "        Address.__init__(self,add)\n",
    "    \n",
    "    def data(self):\n",
    "        print(self.age, self.add)\n",
    "\n",
    "class Info(Data):\n",
    "    def __init__(self,name,age,add):\n",
    "        self.name = name\n",
    "        Data.__init__(self,age,add)\n",
    "    \n",
    "    def info(self):\n",
    "        print(f\"Hello World! I am {self.name}. I am from {self.add}. I am {self.age} years old.\")\n",
    "        \n",
    "obj = Info(\"Ram\",34,\"Kathmandu\")\n",
    "obj.data()\n",
    "obj.info()"
   ]
  },
  {
   "cell_type": "code",
   "execution_count": 43,
   "id": "4662a18e",
   "metadata": {},
   "outputs": [
    {
     "name": "stdout",
     "output_type": "stream",
     "text": [
      "34\n",
      "Hello World! I am Ram. I am from Kathmandu. I am 34 years old.\n"
     ]
    }
   ],
   "source": [
    "#Multiple Inheritence\n",
    "class Address: \n",
    "    def __init__(self,add):\n",
    "        self.add = add\n",
    "    \n",
    "    def my_add(self):\n",
    "        print(self.add)\n",
    "        \n",
    "class Data:                             #parent class\n",
    "    def __init__(self,age):\n",
    "        self.age = age\n",
    "    \n",
    "    def data(self):\n",
    "        print(self.age)\n",
    "\n",
    "class Info(Address,Data):\n",
    "    def __init__(self,name,age,add):\n",
    "        self.name = name\n",
    "        Address.__init__(self,add)\n",
    "        Data.__init__(self,age)\n",
    "    \n",
    "    def info(self):\n",
    "        print(f\"Hello World! I am {self.name}. I am from {self.add}. I am {self.age} years old.\")\n",
    "        \n",
    "obj = Info(\"Ram\",34,\"Kathmandu\")\n",
    "obj.data()\n",
    "obj.info()"
   ]
  },
  {
   "cell_type": "code",
   "execution_count": null,
   "id": "342b1a36",
   "metadata": {},
   "outputs": [],
   "source": []
  },
  {
   "cell_type": "code",
   "execution_count": null,
   "id": "2c41ec27",
   "metadata": {
    "scrolled": true
   },
   "outputs": [],
   "source": []
  },
  {
   "cell_type": "code",
   "execution_count": null,
   "id": "ebda00a9",
   "metadata": {},
   "outputs": [],
   "source": [
    "\n"
   ]
  },
  {
   "cell_type": "code",
   "execution_count": null,
   "id": "3075bb48",
   "metadata": {},
   "outputs": [],
   "source": []
  }
 ],
 "metadata": {
  "kernelspec": {
   "display_name": "Python 3 (ipykernel)",
   "language": "python",
   "name": "python3"
  },
  "language_info": {
   "codemirror_mode": {
    "name": "ipython",
    "version": 3
   },
   "file_extension": ".py",
   "mimetype": "text/x-python",
   "name": "python",
   "nbconvert_exporter": "python",
   "pygments_lexer": "ipython3",
   "version": "3.11.5"
  }
 },
 "nbformat": 4,
 "nbformat_minor": 5
}
